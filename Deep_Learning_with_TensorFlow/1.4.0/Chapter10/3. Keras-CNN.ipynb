{
 "cells": [
  {
   "cell_type": "markdown",
   "metadata": {},
   "source": [
    "### 1. 数据预处理"
   ]
  },
  {
   "cell_type": "code",
   "execution_count": 1,
   "metadata": {},
   "outputs": [
    {
     "name": "stderr",
     "output_type": "stream",
     "text": [
      "Using TensorFlow backend.\n"
     ]
    }
   ],
   "source": [
    "import keras\n",
    "from keras.datasets import mnist\n",
    "from keras.models import Sequential\n",
    "from keras.layers import Dense, Flatten, Conv2D, MaxPooling2D\n",
    "from keras import backend as K\n",
    "\n",
    "num_classes = 10\n",
    "img_rows, img_cols = 28, 28\n",
    " \n",
    "# 通过Keras封装好的API加载MNIST数据。其中trainX就是一个60000 * 28 * 28的数组，\n",
    "# trainY是每一张图片对应的数字。\n",
    "(trainX, trainY), (testX, testY) = mnist.load_data()\n",
    "\n",
    "# 根据对图像编码的格式要求来设置输入层的格式。\n",
    "if K.image_data_format() == 'channels_first':\n",
    "    trainX = trainX.reshape(trainX.shape[0], 1, img_rows, img_cols)\n",
    "    testX = testX.reshape(testX.shape[0], 1, img_rows, img_cols)\n",
    "    input_shape = (1, img_rows, img_cols)\n",
    "else:\n",
    "    trainX = trainX.reshape(trainX.shape[0], img_rows, img_cols, 1)\n",
    "    testX = testX.reshape(testX.shape[0], img_rows, img_cols, 1)\n",
    "    input_shape = (img_rows, img_cols, 1)\n",
    "    \n",
    "trainX = trainX.astype('float32')\n",
    "testX = testX.astype('float32')\n",
    "trainX /= 255.0\n",
    "testX /= 255.0\n",
    " \n",
    "# 将标准答案转化为需要的格式（one-hot编码）。\n",
    "trainY = keras.utils.to_categorical(trainY, num_classes)\n",
    "testY = keras.utils.to_categorical(testY, num_classes)"
   ]
  },
  {
   "cell_type": "markdown",
   "metadata": {},
   "source": [
    "### 2. 通过Keras的API定义卷机神经网络。"
   ]
  },
  {
   "cell_type": "code",
   "execution_count": null,
   "metadata": {
    "collapsed": true
   },
   "outputs": [],
   "source": [
    "# 使用Keras API定义模型。\n",
    "model = Sequential()\n",
    "model.add(Conv2D(32, kernel_size=(5, 5), activation='relu', input_shape=input_shape))\n",
    "model.add(MaxPooling2D(pool_size=(2, 2)))\n",
    "model.add(Conv2D(64, (5, 5), activation='relu'))\n",
    "model.add(MaxPooling2D(pool_size=(2, 2)))\n",
    "model.add(Flatten())\n",
    "model.add(Dense(500, activation='relu'))\n",
    "model.add(Dense(num_classes, activation='softmax'))\n",
    " \n",
    "# 定义损失函数、优化函数和评测方法。\n",
    "model.compile(loss=keras.losses.categorical_crossentropy,\n",
    "              optimizer=keras.optimizers.SGD(),\n",
    "              metrics=['accuracy'])"
   ]
  },
  {
   "cell_type": "markdown",
   "metadata": {},
   "source": [
    "### 3. 通过Keras的API训练模型并计算在测试数据上的准确率。"
   ]
  },
  {
   "cell_type": "code",
   "execution_count": null,
   "metadata": {},
   "outputs": [
    {
     "name": "stdout",
     "output_type": "stream",
     "text": [
      "Train on 60000 samples, validate on 10000 samples\n",
      "Epoch 1/20\n",
      "60000/60000 [==============================] - 215s 4ms/step - loss: 1.0867 - acc: 0.7288 - val_loss: 0.3234 - val_acc: 0.9036\n",
      "Epoch 2/20\n",
      "60000/60000 [==============================] - 225s 4ms/step - loss: 0.2725 - acc: 0.9190 - val_loss: 0.2382 - val_acc: 0.9239\n",
      "Epoch 3/20\n",
      "60000/60000 [==============================] - 334s 6ms/step - loss: 0.1898 - acc: 0.9436 - val_loss: 0.1485 - val_acc: 0.9561\n",
      "Epoch 4/20\n",
      "60000/60000 [==============================] - 226s 4ms/step - loss: 0.1473 - acc: 0.9555 - val_loss: 0.1363 - val_acc: 0.9599\n",
      "Epoch 5/20\n",
      "60000/60000 [==============================] - 269s 4ms/step - loss: 0.1231 - acc: 0.9638 - val_loss: 0.0980 - val_acc: 0.9714\n",
      "Epoch 6/20\n",
      "60000/60000 [==============================] - 320s 5ms/step - loss: 0.1066 - acc: 0.9682 - val_loss: 0.0848 - val_acc: 0.9755\n",
      "Epoch 7/20\n",
      "60000/60000 [==============================] - 281s 5ms/step - loss: 0.0940 - acc: 0.9724 - val_loss: 0.0863 - val_acc: 0.9739\n",
      "Epoch 8/20\n",
      "60000/60000 [==============================] - 297s 5ms/step - loss: 0.0844 - acc: 0.9746 - val_loss: 0.0745 - val_acc: 0.9767\n",
      "Epoch 9/20\n",
      "60000/60000 [==============================] - 324s 5ms/step - loss: 0.0785 - acc: 0.9764 - val_loss: 0.0711 - val_acc: 0.9785\n",
      "Epoch 10/20\n",
      "60000/60000 [==============================] - 388s 6ms/step - loss: 0.0717 - acc: 0.9783 - val_loss: 0.0608 - val_acc: 0.9823\n",
      "Epoch 11/20\n",
      "60000/60000 [==============================] - 333s 6ms/step - loss: 0.0670 - acc: 0.9795 - val_loss: 0.0558 - val_acc: 0.9823\n",
      "Epoch 12/20\n",
      "59904/60000 [============================>.] - ETA: 0s - loss: 0.0628 - acc: 0.9810"
     ]
    }
   ],
   "source": [
    "model.fit(trainX, trainY,\n",
    "          batch_size=128,\n",
    "          epochs=20,\n",
    "          validation_data=(testX, testY))\n",
    " \n",
    "# 在测试数据上计算准确率。\n",
    "score = model.evaluate(testX, testY)\n",
    "print('Test loss:', score[0])\n",
    "print('Test accuracy:', score[1])"
   ]
  }
 ],
 "metadata": {
  "kernelspec": {
   "display_name": "Python 2",
   "language": "python",
   "name": "python2"
  },
  "language_info": {
   "codemirror_mode": {
    "name": "ipython",
    "version": 2
   },
   "file_extension": ".py",
   "mimetype": "text/x-python",
   "name": "python",
   "nbconvert_exporter": "python",
   "pygments_lexer": "ipython2",
   "version": "2.7.13"
  }
 },
 "nbformat": 4,
 "nbformat_minor": 2
}
