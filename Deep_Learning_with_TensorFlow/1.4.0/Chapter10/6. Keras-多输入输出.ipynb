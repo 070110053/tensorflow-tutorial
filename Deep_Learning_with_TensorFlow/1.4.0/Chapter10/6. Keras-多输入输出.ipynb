{
 "cells": [
  {
   "cell_type": "markdown",
   "metadata": {},
   "source": [
    "### 1. 数据预处理。"
   ]
  },
  {
   "cell_type": "code",
   "execution_count": 1,
   "metadata": {},
   "outputs": [
    {
     "name": "stderr",
     "output_type": "stream",
     "text": [
      "Using TensorFlow backend.\n"
     ]
    },
    {
     "name": "stdout",
     "output_type": "stream",
     "text": [
      "hdf5 is not supported on this machine (please install/reinstall h5py for optimal experience)\n"
     ]
    }
   ],
   "source": [
    "import keras\n",
    "from tflearn.layers.core import fully_connected\n",
    "from keras.datasets import mnist\n",
    "from keras.layers import Input, Dense\n",
    "from keras.models import Model\n",
    "\n",
    "num_classes = 10\n",
    "img_rows, img_cols = 28, 28\n",
    " \n",
    "# 通过Keras封装好的API加载MNIST数据。\n",
    "(trainX, trainY), (testX, testY) = mnist.load_data()\n",
    "trainX = trainX.reshape(trainX.shape[0], img_rows * img_cols)\n",
    "testX = testX.reshape(testX.shape[0], img_rows * img_cols)\n",
    "\n",
    "trainX = trainX.astype('float32')\n",
    "testX = testX.astype('float32')\n",
    "trainX /= 255.0\n",
    "testX /= 255.0\n",
    "\n",
    "trainY = keras.utils.to_categorical(trainY, num_classes)\n",
    "testY = keras.utils.to_categorical(testY, num_classes)"
   ]
  },
  {
   "cell_type": "markdown",
   "metadata": {},
   "source": [
    "### 2. 定义模型。"
   ]
  },
  {
   "cell_type": "code",
   "execution_count": 2,
   "metadata": {
    "collapsed": true
   },
   "outputs": [],
   "source": [
    "# 定义两个输入。\n",
    "input1 = Input(shape=(784,), name = \"input1\")\n",
    "input2 = Input(shape=(10,), name = \"input2\")\n",
    "\n",
    "# 定义第一个输出。\n",
    "x = Dense(1, activation='relu')(input1)\n",
    "output1 = Dense(10, activation='softmax', name = \"output1\")(x)\n",
    "\n",
    "# 定义第二个输出。\n",
    "y = keras.layers.concatenate([x, input2])\n",
    "output2 = Dense(10, activation='softmax', name = \"output2\")(y)\n",
    "\n",
    "model = Model(inputs=[input1, input2], outputs=[output1, output2])\n",
    "\n",
    "# 定义损失函数、优化函数和评测方法。\n",
    "model.compile(loss=keras.losses.categorical_crossentropy,\n",
    "              optimizer=keras.optimizers.SGD(),\n",
    "              loss_weights = [1, 0.1],\n",
    "              metrics=['accuracy'])"
   ]
  },
  {
   "cell_type": "markdown",
   "metadata": {},
   "source": [
    "### 3. 模型训练。"
   ]
  },
  {
   "cell_type": "code",
   "execution_count": 3,
   "metadata": {},
   "outputs": [
    {
     "name": "stdout",
     "output_type": "stream",
     "text": [
      "Train on 60000 samples, validate on 10000 samples\n",
      "Epoch 1/20\n",
      "60000/60000 [==============================] - 15s 257us/step - loss: 2.4960 - output1_loss: 2.2624 - output2_loss: 2.3365 - output1_acc: 0.1287 - output2_acc: 0.0235 - val_loss: 2.4284 - val_output1_loss: 2.1976 - val_output2_loss: 2.3081 - val_output1_acc: 0.1705 - val_output2_acc: 0.1081\n",
      "Epoch 2/20\n",
      "60000/60000 [==============================] - 7s 124us/step - loss: 2.3745 - output1_loss: 2.1467 - output2_loss: 2.2774 - output1_acc: 0.1892 - output2_acc: 0.1045 - val_loss: 2.3177 - val_output1_loss: 2.0949 - val_output2_loss: 2.2278 - val_output1_acc: 0.2026 - val_output2_acc: 0.1169\n",
      "Epoch 3/20\n",
      "60000/60000 [==============================] - 7s 124us/step - loss: 2.3010 - output1_loss: 2.0818 - output2_loss: 2.1919 - output1_acc: 0.2063 - output2_acc: 0.1625 - val_loss: 2.2691 - val_output1_loss: 2.0548 - val_output2_loss: 2.1430 - val_output1_acc: 0.2110 - val_output2_acc: 0.2141\n",
      "Epoch 4/20\n",
      "60000/60000 [==============================] - 8s 128us/step - loss: 2.2636 - output1_loss: 2.0525 - output2_loss: 2.1115 - output1_acc: 0.2099 - output2_acc: 0.2086 - val_loss: 2.2396 - val_output1_loss: 2.0328 - val_output2_loss: 2.0674 - val_output1_acc: 0.2123 - val_output2_acc: 0.2145\n",
      "Epoch 5/20\n",
      "60000/60000 [==============================] - 8s 130us/step - loss: 2.2394 - output1_loss: 2.0352 - output2_loss: 2.0420 - output1_acc: 0.2111 - output2_acc: 0.2094 - val_loss: 2.2197 - val_output1_loss: 2.0193 - val_output2_loss: 2.0038 - val_output1_acc: 0.2146 - val_output2_acc: 0.2151\n",
      "Epoch 6/20\n",
      "60000/60000 [==============================] - 7s 119us/step - loss: 2.2219 - output1_loss: 2.0237 - output2_loss: 1.9824 - output1_acc: 0.2117 - output2_acc: 0.2276 - val_loss: 2.2045 - val_output1_loss: 2.0097 - val_output2_loss: 1.9479 - val_output1_acc: 0.2157 - val_output2_acc: 0.3025\n",
      "Epoch 7/20\n",
      "60000/60000 [==============================] - 7s 123us/step - loss: 2.2085 - output1_loss: 2.0155 - output2_loss: 1.9300 - output1_acc: 0.2119 - output2_acc: 0.3143 - val_loss: 2.1922 - val_output1_loss: 2.0025 - val_output2_loss: 1.8973 - val_output1_acc: 0.2159 - val_output2_acc: 0.3957\n",
      "Epoch 8/20\n",
      "60000/60000 [==============================] - 8s 133us/step - loss: 2.1976 - output1_loss: 2.0093 - output2_loss: 1.8826 - output1_acc: 0.2120 - output2_acc: 0.3860 - val_loss: 2.1826 - val_output1_loss: 1.9973 - val_output2_loss: 1.8522 - val_output1_acc: 0.2158 - val_output2_acc: 0.3989\n",
      "Epoch 9/20\n",
      "60000/60000 [==============================] - 7s 123us/step - loss: 2.1884 - output1_loss: 2.0045 - output2_loss: 1.8385 - output1_acc: 0.2121 - output2_acc: 0.4582 - val_loss: 2.1741 - val_output1_loss: 1.9931 - val_output2_loss: 1.8093 - val_output1_acc: 0.2157 - val_output2_acc: 0.4955\n",
      "Epoch 10/20\n",
      "60000/60000 [==============================] - 7s 123us/step - loss: 2.1803 - output1_loss: 2.0006 - output2_loss: 1.7968 - output1_acc: 0.2123 - output2_acc: 0.4868 - val_loss: 2.1660 - val_output1_loss: 1.9892 - val_output2_loss: 1.7676 - val_output1_acc: 0.2160 - val_output2_acc: 0.4958\n",
      "Epoch 11/20\n",
      "60000/60000 [==============================] - 8s 129us/step - loss: 2.1731 - output1_loss: 1.9974 - output2_loss: 1.7569 - output1_acc: 0.2125 - output2_acc: 0.5409 - val_loss: 2.1593 - val_output1_loss: 1.9865 - val_output2_loss: 1.7288 - val_output1_acc: 0.2173 - val_output2_acc: 0.6939\n",
      "Epoch 12/20\n",
      "60000/60000 [==============================] - 7s 123us/step - loss: 2.1665 - output1_loss: 1.9946 - output2_loss: 1.7184 - output1_acc: 0.2134 - output2_acc: 0.7431 - val_loss: 2.1528 - val_output1_loss: 1.9837 - val_output2_loss: 1.6906 - val_output1_acc: 0.2186 - val_output2_acc: 0.7866\n",
      "Epoch 13/20\n",
      "60000/60000 [==============================] - 7s 119us/step - loss: 2.1603 - output1_loss: 1.9922 - output2_loss: 1.6811 - output1_acc: 0.2143 - output2_acc: 0.7835 - val_loss: 2.1469 - val_output1_loss: 1.9815 - val_output2_loss: 1.6539 - val_output1_acc: 0.2186 - val_output2_acc: 0.7898\n",
      "Epoch 14/20\n",
      "60000/60000 [==============================] - 8s 129us/step - loss: 2.1545 - output1_loss: 1.9900 - output2_loss: 1.6448 - output1_acc: 0.2151 - output2_acc: 0.8190 - val_loss: 2.1412 - val_output1_loss: 1.9794 - val_output2_loss: 1.6180 - val_output1_acc: 0.2195 - val_output2_acc: 0.8887\n",
      "Epoch 15/20\n",
      "60000/60000 [==============================] - 8s 126us/step - loss: 2.1489 - output1_loss: 1.9879 - output2_loss: 1.6096 - output1_acc: 0.2155 - output2_acc: 0.8829 - val_loss: 2.1358 - val_output1_loss: 1.9775 - val_output2_loss: 1.5831 - val_output1_acc: 0.2207 - val_output2_acc: 0.8910\n",
      "Epoch 16/20\n",
      "60000/60000 [==============================] - 8s 133us/step - loss: 2.1435 - output1_loss: 1.9860 - output2_loss: 1.5753 - output1_acc: 0.2160 - output2_acc: 0.9440 - val_loss: 2.1305 - val_output1_loss: 1.9756 - val_output2_loss: 1.5490 - val_output1_acc: 0.2213 - val_output2_acc: 0.9742\n",
      "Epoch 17/20\n",
      "60000/60000 [==============================] - 7s 120us/step - loss: 2.1383 - output1_loss: 1.9841 - output2_loss: 1.5417 - output1_acc: 0.2166 - output2_acc: 0.9656 - val_loss: 2.1254 - val_output1_loss: 1.9738 - val_output2_loss: 1.5158 - val_output1_acc: 0.2215 - val_output2_acc: 0.9755\n",
      "Epoch 18/20\n",
      "60000/60000 [==============================] - 8s 141us/step - loss: 2.1330 - output1_loss: 1.9821 - output2_loss: 1.5092 - output1_acc: 0.2169 - output2_acc: 0.9654 - val_loss: 2.1201 - val_output1_loss: 1.9718 - val_output2_loss: 1.4834 - val_output1_acc: 0.2211 - val_output2_acc: 0.9749\n",
      "Epoch 19/20\n",
      "60000/60000 [==============================] - 8s 134us/step - loss: 2.1276 - output1_loss: 1.9799 - output2_loss: 1.4775 - output1_acc: 0.2175 - output2_acc: 0.9653 - val_loss: 2.1143 - val_output1_loss: 1.9691 - val_output2_loss: 1.4522 - val_output1_acc: 0.2214 - val_output2_acc: 0.9720\n",
      "Epoch 20/20\n",
      "60000/60000 [==============================] - 8s 129us/step - loss: 2.1220 - output1_loss: 1.9773 - output2_loss: 1.4469 - output1_acc: 0.2183 - output2_acc: 0.9634 - val_loss: 2.1083 - val_output1_loss: 1.9662 - val_output2_loss: 1.4217 - val_output1_acc: 0.2238 - val_output2_acc: 0.9707\n"
     ]
    },
    {
     "data": {
      "text/plain": [
       "<keras.callbacks.History at 0x1195d2ad0>"
      ]
     },
     "execution_count": 3,
     "metadata": {},
     "output_type": "execute_result"
    }
   ],
   "source": [
    "model.fit([trainX, trainY], [trainY, trainY],\n",
    "          batch_size=128,\n",
    "          epochs=20,\n",
    "          validation_data=([testX, testY], [testY, testY]))"
   ]
  },
  {
   "cell_type": "code",
   "execution_count": null,
   "metadata": {
    "collapsed": true
   },
   "outputs": [],
   "source": []
  }
 ],
 "metadata": {
  "kernelspec": {
   "display_name": "Python 2",
   "language": "python",
   "name": "python2"
  },
  "language_info": {
   "codemirror_mode": {
    "name": "ipython",
    "version": 2
   },
   "file_extension": ".py",
   "mimetype": "text/x-python",
   "name": "python",
   "nbconvert_exporter": "python",
   "pygments_lexer": "ipython2",
   "version": "2.7.13"
  }
 },
 "nbformat": 4,
 "nbformat_minor": 2
}
