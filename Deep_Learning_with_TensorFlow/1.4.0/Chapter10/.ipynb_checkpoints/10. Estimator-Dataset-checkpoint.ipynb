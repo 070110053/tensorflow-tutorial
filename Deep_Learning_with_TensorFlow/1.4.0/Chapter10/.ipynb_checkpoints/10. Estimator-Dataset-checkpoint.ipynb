{
 "cells": [
  {
   "cell_type": "markdown",
   "metadata": {},
   "source": [
    "### 1. 训练自定义模型。"
   ]
  },
  {
   "cell_type": "code",
   "execution_count": 1,
   "metadata": {},
   "outputs": [
    {
     "name": "stdout",
     "output_type": "stream",
     "text": [
      "INFO:tensorflow:Using default config.\n",
      "WARNING:tensorflow:Using temporary folder as model directory: /var/folders/v9/vrbrlhtd1dz8tdzl3s3d4d3c0000gn/T/tmpZweRVe\n",
      "INFO:tensorflow:Using config: {'_save_checkpoints_secs': 600, '_session_config': None, '_keep_checkpoint_max': 5, '_task_type': 'worker', '_is_chief': True, '_cluster_spec': <tensorflow.python.training.server_lib.ClusterSpec object at 0x11e1081d0>, '_save_checkpoints_steps': None, '_keep_checkpoint_every_n_hours': 10000, '_service': None, '_num_ps_replicas': 0, '_tf_random_seed': None, '_master': '', '_num_worker_replicas': 1, '_task_id': 0, '_log_step_count_steps': 100, '_model_dir': '/var/folders/v9/vrbrlhtd1dz8tdzl3s3d4d3c0000gn/T/tmpZweRVe', '_save_summary_steps': 100}\n",
      "WARNING:tensorflow:From <ipython-input-1-a36b446e3e29>:10: __init__ (from tensorflow.contrib.data.python.ops.readers) is deprecated and will be removed in a future version.\n",
      "Instructions for updating:\n",
      "Use `tf.data.TextLineDataset`.\n",
      "INFO:tensorflow:Create CheckpointSaverHook.\n",
      "INFO:tensorflow:Saving checkpoints for 1 into /var/folders/v9/vrbrlhtd1dz8tdzl3s3d4d3c0000gn/T/tmpZweRVe/model.ckpt.\n",
      "INFO:tensorflow:loss = 64.0272, step = 1\n",
      "INFO:tensorflow:global_step/sec: 119.28\n",
      "INFO:tensorflow:loss = 6.56172, step = 101 (0.867 sec)\n",
      "INFO:tensorflow:global_step/sec: 162.941\n",
      "INFO:tensorflow:loss = 4.61249, step = 201 (0.746 sec)\n",
      "INFO:tensorflow:global_step/sec: 108.75\n",
      "INFO:tensorflow:loss = 2.66271, step = 301 (0.763 sec)\n",
      "INFO:tensorflow:Saving checkpoints for 375 into /var/folders/v9/vrbrlhtd1dz8tdzl3s3d4d3c0000gn/T/tmpZweRVe/model.ckpt.\n",
      "INFO:tensorflow:Loss for final step: 2.50392.\n"
     ]
    },
    {
     "data": {
      "text/plain": [
       "<tensorflow.python.estimator.canned.dnn.DNNClassifier at 0x110a121d0>"
      ]
     },
     "execution_count": 1,
     "metadata": {},
     "output_type": "execute_result"
    }
   ],
   "source": [
    "import tensorflow as tf\n",
    "\n",
    "tf.logging.set_verbosity(tf.logging.INFO)\n",
    "\n",
    "def my_input_fn(file_path, perform_shuffle=False, repeat_count=1):\n",
    "    def decode_csv(line):\n",
    "        parsed_line = tf.decode_csv(line, [[0.], [0.], [0.], [0.], [0]])\n",
    "        return {\"x\": parsed_line[:-1]}, parsed_line[-1:]\n",
    "\n",
    "    dataset = (tf.contrib.data.TextLineDataset(file_path)  \n",
    "               .skip(1)  \n",
    "               .map(decode_csv))  \n",
    "    if perform_shuffle:\n",
    "        dataset = dataset.shuffle(buffer_size=256)\n",
    "    dataset = dataset.repeat(repeat_count) \n",
    "    dataset = dataset.batch(32) \n",
    "    iterator = dataset.make_one_shot_iterator()\n",
    "    batch_features, batch_labels = iterator.get_next()\n",
    "    return batch_features, batch_labels\n",
    "\n",
    "feature_columns = [tf.feature_column.numeric_column(\"x\", shape=[4])]\n",
    "classifier = tf.estimator.DNNClassifier(\n",
    "    feature_columns=feature_columns,  \n",
    "    hidden_units=[10, 10],  \n",
    "    n_classes=3)\n",
    "\n",
    "classifier.train(\n",
    "    input_fn=lambda: my_input_fn(\"../../datasets/iris_training.csv\", True, 100))\n"
   ]
  },
  {
   "cell_type": "markdown",
   "metadata": {},
   "source": [
    "### 2. 测试模型。"
   ]
  },
  {
   "cell_type": "code",
   "execution_count": 2,
   "metadata": {},
   "outputs": [
    {
     "name": "stdout",
     "output_type": "stream",
     "text": [
      "INFO:tensorflow:Starting evaluation at 2017-12-25-22:12:36\n",
      "INFO:tensorflow:Restoring parameters from /var/folders/v9/vrbrlhtd1dz8tdzl3s3d4d3c0000gn/T/tmpZweRVe/model.ckpt-375\n",
      "INFO:tensorflow:Finished evaluation at 2017-12-25-22:12:42\n",
      "INFO:tensorflow:Saving dict for global step 375: accuracy = 0.966667, average_loss = 0.102634, global_step = 375, loss = 3.07902\n",
      "\n",
      "Test accuracy: 96.6667 %\n"
     ]
    }
   ],
   "source": [
    "test_results = classifier.evaluate(\n",
    "    input_fn=lambda: my_input_fn(\"../../datasets/iris_test.csv\", False, 1))\n",
    "print(\"\\nTest accuracy: %g %%\" % (test_results[\"accuracy\"]*100))"
   ]
  },
  {
   "cell_type": "code",
   "execution_count": null,
   "metadata": {
    "collapsed": true
   },
   "outputs": [],
   "source": []
  }
 ],
 "metadata": {
  "kernelspec": {
   "display_name": "Python 2",
   "language": "python",
   "name": "python2"
  },
  "language_info": {
   "codemirror_mode": {
    "name": "ipython",
    "version": 2
   },
   "file_extension": ".py",
   "mimetype": "text/x-python",
   "name": "python",
   "nbconvert_exporter": "python",
   "pygments_lexer": "ipython2",
   "version": "2.7.13"
  }
 },
 "nbformat": 4,
 "nbformat_minor": 2
}
