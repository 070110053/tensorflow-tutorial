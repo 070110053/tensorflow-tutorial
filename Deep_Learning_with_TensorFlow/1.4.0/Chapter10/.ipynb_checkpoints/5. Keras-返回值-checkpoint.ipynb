{
 "cells": [
  {
   "cell_type": "markdown",
   "metadata": {},
   "source": [
    "### 1. 数据预处理。"
   ]
  },
  {
   "cell_type": "code",
   "execution_count": 1,
   "metadata": {},
   "outputs": [
    {
     "name": "stderr",
     "output_type": "stream",
     "text": [
      "Using TensorFlow backend.\n"
     ]
    },
    {
     "name": "stdout",
     "output_type": "stream",
     "text": [
      "hdf5 is not supported on this machine (please install/reinstall h5py for optimal experience)\n"
     ]
    }
   ],
   "source": [
    "import keras\n",
    "from tflearn.layers.core import fully_connected\n",
    "from keras.datasets import mnist\n",
    "from keras.layers import Input, Dense\n",
    "from keras.models import Model\n",
    "\n",
    "num_classes = 10\n",
    "img_rows, img_cols = 28, 28\n",
    " \n",
    "# 通过Keras封装好的API加载MNIST数据。\n",
    "(trainX, trainY), (testX, testY) = mnist.load_data()\n",
    "trainX = trainX.reshape(trainX.shape[0], img_rows * img_cols)\n",
    "testX = testX.reshape(testX.shape[0], img_rows * img_cols)\n",
    " \n",
    "# 将图像像素转化为0到1之间的实数。\n",
    "trainX = trainX.astype('float32')\n",
    "testX = testX.astype('float32')\n",
    "trainX /= 255.0\n",
    "testX /= 255.0\n",
    " \n",
    "# 将标准答案转化为需要的格式（one-hot编码）。\n",
    "trainY = keras.utils.to_categorical(trainY, num_classes)\n",
    "testY = keras.utils.to_categorical(testY, num_classes)"
   ]
  },
  {
   "cell_type": "markdown",
   "metadata": {},
   "source": [
    "### 2. 通过返回值的方式定义模型。"
   ]
  },
  {
   "cell_type": "code",
   "execution_count": 2,
   "metadata": {
    "collapsed": true
   },
   "outputs": [],
   "source": [
    "inputs = Input(shape=(784,))\n",
    "\n",
    "x = Dense(500, activation='relu')(inputs)\n",
    "predictions = Dense(10, activation='softmax')(x)\n",
    "\n",
    "model = Model(inputs=inputs, outputs=predictions)\n",
    "model.compile(loss=keras.losses.categorical_crossentropy,\n",
    "              optimizer=keras.optimizers.SGD(),\n",
    "              metrics=['accuracy'])"
   ]
  },
  {
   "cell_type": "markdown",
   "metadata": {},
   "source": [
    "### 3. 训练模型。"
   ]
  },
  {
   "cell_type": "code",
   "execution_count": 3,
   "metadata": {},
   "outputs": [
    {
     "name": "stdout",
     "output_type": "stream",
     "text": [
      "Train on 60000 samples, validate on 10000 samples\n",
      "Epoch 1/20\n",
      "60000/60000 [==============================] - 18s 303us/step - loss: 1.1033 - acc: 0.7550 - val_loss: 0.6000 - val_acc: 0.8663\n",
      "Epoch 2/20\n",
      "60000/60000 [==============================] - 15s 255us/step - loss: 0.5210 - acc: 0.8728 - val_loss: 0.4334 - val_acc: 0.8925\n",
      "Epoch 3/20\n",
      "60000/60000 [==============================] - 15s 256us/step - loss: 0.4189 - acc: 0.8901 - val_loss: 0.3728 - val_acc: 0.9038\n",
      "Epoch 4/20\n",
      "60000/60000 [==============================] - 16s 263us/step - loss: 0.3725 - acc: 0.8991 - val_loss: 0.3404 - val_acc: 0.9079\n",
      "Epoch 5/20\n",
      "60000/60000 [==============================] - 16s 267us/step - loss: 0.3442 - acc: 0.9055 - val_loss: 0.3180 - val_acc: 0.9130\n",
      "Epoch 6/20\n",
      "60000/60000 [==============================] - 14s 242us/step - loss: 0.3239 - acc: 0.9103 - val_loss: 0.3023 - val_acc: 0.9179\n",
      "Epoch 7/20\n",
      "60000/60000 [==============================] - 15s 244us/step - loss: 0.3081 - acc: 0.9143 - val_loss: 0.2895 - val_acc: 0.9220\n",
      "Epoch 8/20\n",
      "60000/60000 [==============================] - 15s 250us/step - loss: 0.2951 - acc: 0.9181 - val_loss: 0.2785 - val_acc: 0.9247\n",
      "Epoch 9/20\n",
      "60000/60000 [==============================] - 17s 277us/step - loss: 0.2839 - acc: 0.9205 - val_loss: 0.2693 - val_acc: 0.9266\n",
      "Epoch 10/20\n",
      "60000/60000 [==============================] - 17s 286us/step - loss: 0.2742 - acc: 0.9230 - val_loss: 0.2609 - val_acc: 0.9286\n",
      "Epoch 11/20\n",
      "60000/60000 [==============================] - 16s 271us/step - loss: 0.2652 - acc: 0.9260 - val_loss: 0.2537 - val_acc: 0.9296\n",
      "Epoch 12/20\n",
      "60000/60000 [==============================] - 16s 269us/step - loss: 0.2571 - acc: 0.9280 - val_loss: 0.2460 - val_acc: 0.9303\n",
      "Epoch 13/20\n",
      "60000/60000 [==============================] - 17s 285us/step - loss: 0.2497 - acc: 0.9299 - val_loss: 0.2409 - val_acc: 0.9318\n",
      "Epoch 14/20\n",
      "60000/60000 [==============================] - 17s 277us/step - loss: 0.2429 - acc: 0.9328 - val_loss: 0.2343 - val_acc: 0.9331\n",
      "Epoch 15/20\n",
      "60000/60000 [==============================] - 16s 270us/step - loss: 0.2365 - acc: 0.9342 - val_loss: 0.2282 - val_acc: 0.9348\n",
      "Epoch 16/20\n",
      "60000/60000 [==============================] - 16s 270us/step - loss: 0.2303 - acc: 0.9362 - val_loss: 0.2237 - val_acc: 0.9370\n",
      "Epoch 17/20\n",
      "60000/60000 [==============================] - 17s 282us/step - loss: 0.2249 - acc: 0.9380 - val_loss: 0.2180 - val_acc: 0.9382\n",
      "Epoch 18/20\n",
      "60000/60000 [==============================] - 18s 292us/step - loss: 0.2195 - acc: 0.9392 - val_loss: 0.2133 - val_acc: 0.9397\n",
      "Epoch 19/20\n",
      "60000/60000 [==============================] - 15s 247us/step - loss: 0.2143 - acc: 0.9406 - val_loss: 0.2090 - val_acc: 0.9405\n",
      "Epoch 20/20\n",
      "60000/60000 [==============================] - 15s 242us/step - loss: 0.2095 - acc: 0.9423 - val_loss: 0.2053 - val_acc: 0.9424\n"
     ]
    },
    {
     "data": {
      "text/plain": [
       "<keras.callbacks.History at 0x111dc5e50>"
      ]
     },
     "execution_count": 3,
     "metadata": {},
     "output_type": "execute_result"
    }
   ],
   "source": [
    "model.fit(trainX, trainY,\n",
    "          batch_size=128,\n",
    "          epochs=20,\n",
    "          validation_data=(testX, testY))"
   ]
  },
  {
   "cell_type": "code",
   "execution_count": null,
   "metadata": {
    "collapsed": true
   },
   "outputs": [],
   "source": []
  }
 ],
 "metadata": {
  "kernelspec": {
   "display_name": "Python 2",
   "language": "python",
   "name": "python2"
  },
  "language_info": {
   "codemirror_mode": {
    "name": "ipython",
    "version": 2
   },
   "file_extension": ".py",
   "mimetype": "text/x-python",
   "name": "python",
   "nbconvert_exporter": "python",
   "pygments_lexer": "ipython2",
   "version": "2.7.13"
  }
 },
 "nbformat": 4,
 "nbformat_minor": 2
}
