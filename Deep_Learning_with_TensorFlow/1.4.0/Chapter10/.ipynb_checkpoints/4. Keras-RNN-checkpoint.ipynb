{
 "cells": [
  {
   "cell_type": "markdown",
   "metadata": {},
   "source": [
    "### 1. 数据预处理。"
   ]
  },
  {
   "cell_type": "code",
   "execution_count": 1,
   "metadata": {},
   "outputs": [
    {
     "name": "stderr",
     "output_type": "stream",
     "text": [
      "Using TensorFlow backend.\n"
     ]
    },
    {
     "name": "stdout",
     "output_type": "stream",
     "text": [
      "(25000, 'train sequences')\n",
      "(25000, 'test sequences')\n",
      "('trainX shape:', (25000, 80))\n",
      "('testX shape:', (25000, 80))\n"
     ]
    }
   ],
   "source": [
    "from keras.preprocessing import sequence\n",
    "from keras.models import Sequential\n",
    "from keras.layers import Dense, Embedding\n",
    "from keras.layers import LSTM\n",
    "from keras.datasets import imdb\n",
    "\n",
    "max_features = 20000\n",
    "maxlen = 80  \n",
    "batch_size = 32\n",
    "\n",
    "# 加载数据并将单词转化为ID，max_features给出了最多使用的单词数。\n",
    "(trainX, trainY), (testX, testY) = imdb.load_data(num_words=max_features)\n",
    "print(len(trainX), 'train sequences')\n",
    "print(len(testX), 'test sequences')\n",
    "\n",
    "# 在自然语言中，每一段话的长度是不一样的，但循环神经网络的循环长度是固定的，\n",
    "# 所以这里需要先将所有段落统一成固定长度。\n",
    "trainX = sequence.pad_sequences(trainX, maxlen=maxlen)\n",
    "testX = sequence.pad_sequences(testX, maxlen=maxlen)\n",
    "print('trainX shape:', trainX.shape)\n",
    "print('testX shape:', testX.shape)"
   ]
  },
  {
   "cell_type": "markdown",
   "metadata": {},
   "source": [
    "### 2. 定义模型。"
   ]
  },
  {
   "cell_type": "code",
   "execution_count": null,
   "metadata": {
    "collapsed": true
   },
   "outputs": [],
   "source": [
    "model = Sequential()\n",
    "model.add(Embedding(max_features, 128))\n",
    "model.add(LSTM(128, dropout=0.2, recurrent_dropout=0.2))\n",
    "model.add(Dense(1, activation='sigmoid'))\n",
    "\n",
    "model.compile(loss='binary_crossentropy',\n",
    "              optimizer='adam',\n",
    "              metrics=['accuracy'])"
   ]
  },
  {
   "cell_type": "markdown",
   "metadata": {},
   "source": [
    "### 3. 训练、评测模型。"
   ]
  },
  {
   "cell_type": "code",
   "execution_count": null,
   "metadata": {},
   "outputs": [
    {
     "name": "stdout",
     "output_type": "stream",
     "text": [
      "Train on 25000 samples, validate on 25000 samples\n",
      "Epoch 1/15\n",
      "25000/25000 [==============================] - 569s 23ms/step - loss: 0.4610 - acc: 0.7817 - val_loss: 0.3899 - val_acc: 0.8289\n",
      "Epoch 2/15\n",
      "25000/25000 [==============================] - 508s 20ms/step - loss: 0.2971 - acc: 0.8789 - val_loss: 0.3930 - val_acc: 0.8329\n",
      "Epoch 3/15\n",
      "25000/25000 [==============================] - 620s 25ms/step - loss: 0.2087 - acc: 0.9190 - val_loss: 0.4109 - val_acc: 0.8238\n",
      "Epoch 4/15\n",
      "25000/25000 [==============================] - 585s 23ms/step - loss: 0.1488 - acc: 0.9458 - val_loss: 0.4427 - val_acc: 0.8236\n",
      "Epoch 5/15\n",
      "25000/25000 [==============================] - 516s 21ms/step - loss: 0.0289 - acc: 0.9904 - val_loss: 0.8589 - val_acc: 0.8166\n",
      "Epoch 10/15\n",
      "25000/25000 [==============================] - 435s 17ms/step - loss: 0.0223 - acc: 0.9926 - val_loss: 0.9407 - val_acc: 0.8066\n",
      "Epoch 11/15\n",
      "25000/25000 [==============================] - 434s 17ms/step - loss: 0.0186 - acc: 0.9939 - val_loss: 0.9725 - val_acc: 0.8064\n",
      "Epoch 12/15\n",
      "25000/25000 [==============================] - 433s 17ms/step - loss: 0.0167 - acc: 0.9942 - val_loss: 1.0773 - val_acc: 0.8122\n",
      "Epoch 13/15\n",
      "25000/25000 [==============================] - 437s 17ms/step - loss: 0.0124 - acc: 0.9959 - val_loss: 1.1142 - val_acc: 0.8090\n",
      "Epoch 14/15\n",
      "25000/25000 [==============================] - 435s 17ms/step - loss: 0.0129 - acc: 0.9960 - val_loss: 1.1783 - val_acc: 0.8070\n",
      "Epoch 15/15\n",
      "25000/25000 [==============================] - 435s 17ms/step - loss: 0.0111 - acc: 0.9963 - val_loss: 1.1845 - val_acc: 0.8134\n",
      "25000/25000 [==============================] - 77s 3ms/step\n",
      "('Test loss:', 1.1845435761737824)\n",
      "('Test accuracy:', 0.81335999999999997)\n"
     ]
    }
   ],
   "source": [
    "model.fit(trainX, trainY,\n",
    "          batch_size=batch_size,\n",
    "          epochs=10,\n",
    "          validation_data=(testX, testY))\n",
    "\n",
    "score = model.evaluate(testX, testY, batch_size=batch_size)\n",
    "print('Test loss:', score[0])\n",
    "print('Test accuracy:', score[1])"
   ]
  },
  {
   "cell_type": "code",
   "execution_count": null,
   "metadata": {
    "collapsed": true
   },
   "outputs": [],
   "source": []
  }
 ],
 "metadata": {
  "kernelspec": {
   "display_name": "Python 2",
   "language": "python",
   "name": "python2"
  },
  "language_info": {
   "codemirror_mode": {
    "name": "ipython",
    "version": 2
   },
   "file_extension": ".py",
   "mimetype": "text/x-python",
   "name": "python",
   "nbconvert_exporter": "python",
   "pygments_lexer": "ipython2",
   "version": "2.7.13"
  }
 },
 "nbformat": 4,
 "nbformat_minor": 2
}
